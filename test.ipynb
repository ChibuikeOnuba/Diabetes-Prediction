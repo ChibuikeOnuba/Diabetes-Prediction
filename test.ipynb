{
 "cells": [
  {
   "cell_type": "code",
   "execution_count": 93,
   "metadata": {},
   "outputs": [],
   "source": [
    "profile = [\n",
    "    {\n",
    "        'firstName': 'Akira',\n",
    "        'lastName': 'Liane',\n",
    "        'number': '28364749',\n",
    "        'likes': ['Pizza', 'codung', 'Brown points'],\n",
    "    },\n",
    "    {\n",
    "        'firstName': 'Harry',\n",
    "        'lastName': 'Potter',\n",
    "        'number': '97488398',\n",
    "        'likes': ['Hogwarsts', 'Magic', 'Hagrid'],\n",
    "    },\n",
    "    {\n",
    "        'firstName': 'Sherlock',\n",
    "        'lastName': 'Holmes',\n",
    "        'number': '384693838',\n",
    "        'likes': ['Intruiging cases', 'Violin'],\n",
    "    },\n",
    "    {\n",
    "        'firstName': 'Kristian',\n",
    "        'lastName': 'Vos',\n",
    "        'number': '3864003',\n",
    "        'likes': ['Javascript', 'Gaming', 'Foxes'],\n",
    "    },\n",
    "];\n"
   ]
  },
  {
   "cell_type": "code",
   "execution_count": 10,
   "metadata": {},
   "outputs": [
    {
     "ename": "SyntaxError",
     "evalue": "invalid syntax (3686027446.py, line 2)",
     "output_type": "error",
     "traceback": [
      "\u001b[1;36m  Cell \u001b[1;32mIn [10], line 2\u001b[1;36m\u001b[0m\n\u001b[1;33m    s.del('n')\u001b[0m\n\u001b[1;37m      ^\u001b[0m\n\u001b[1;31mSyntaxError\u001b[0m\u001b[1;31m:\u001b[0m invalid syntax\n"
     ]
    }
   ],
   "source": [
    "s = 'sfknnnfa'\n",
    "s.del('n')"
   ]
  },
  {
   "cell_type": "code",
   "execution_count": 16,
   "metadata": {},
   "outputs": [],
   "source": [
    "def remove_adjacent_duplicates(s):\n",
    "    # Convert string to list for easy manipulation\n",
    "    chars = list(s)\n",
    "    \n",
    "    # Loop until no more adjacent duplicates can be removed\n",
    "    i = 0\n",
    "    while i < len(chars)-1:\n",
    "        if chars[i] == chars[i+1]:\n",
    "            # Remove adjacent duplicates\n",
    "            chars.pop(i)\n",
    "            chars.pop(i)\n",
    "            # Update the index\n",
    "            i = max(0, i-1)\n",
    "        else:\n",
    "            i += 1\n",
    "    \n",
    "    # Convert the list back to string and return\n",
    "    return ''.join(chars)"
   ]
  },
  {
   "cell_type": "code",
   "execution_count": 17,
   "metadata": {},
   "outputs": [
    {
     "data": {
      "text/plain": [
       "'jhjo'"
      ]
     },
     "execution_count": 17,
     "metadata": {},
     "output_type": "execute_result"
    }
   ],
   "source": [
    "remove_adjacent_duplicates('jhppjopp')"
   ]
  },
  {
   "cell_type": "code",
   "execution_count": 8,
   "metadata": {},
   "outputs": [
    {
     "data": {
      "text/plain": [
       "(1, 2)"
      ]
     },
     "execution_count": 8,
     "metadata": {},
     "output_type": "execute_result"
    }
   ],
   "source": [
    "import numpy as np\n",
    "\n",
    "x = np.random.rand(3, 2)\n",
    "\n",
    "y = np.sum(x, axis=0, keepdims=True)\n",
    "\n",
    "y.shape"
   ]
  },
  {
   "cell_type": "code",
   "execution_count": 121,
   "metadata": {},
   "outputs": [
    {
     "data": {
      "text/plain": [
       "'No such property'"
      ]
     },
     "execution_count": 121,
     "metadata": {},
     "output_type": "execute_result"
    }
   ],
   "source": [
    "names = []\n",
    "\n",
    "for i in profile:\n",
    "    names.append(i['firstName'])\n",
    "    \n",
    "    \n",
    "def lookup (name, prop):\n",
    "    for x in profile: \n",
    "        if ((name in names) & (prop in x.keys())):\n",
    "            return(profile[names.index(name)][prop]) \n",
    "        elif((x['firstName'] != name) & (prop in x.keys())):\n",
    "            return 'No Such Contact'\n",
    "        else:\n",
    "            return 'No such property'\n",
    "        \n",
    "lookup('Kristian', 'astName')        "
   ]
  }
 ],
 "metadata": {
  "kernelspec": {
   "display_name": "Python 3",
   "language": "python",
   "name": "python3"
  },
  "language_info": {
   "codemirror_mode": {
    "name": "ipython",
    "version": 3
   },
   "file_extension": ".py",
   "mimetype": "text/x-python",
   "name": "python",
   "nbconvert_exporter": "python",
   "pygments_lexer": "ipython3",
   "version": "3.10.4"
  },
  "orig_nbformat": 4,
  "vscode": {
   "interpreter": {
    "hash": "1f680cd7b21b13c061eda06640355db60d12d8be72732e19620e6eeba52035a6"
   }
  }
 },
 "nbformat": 4,
 "nbformat_minor": 2
}
